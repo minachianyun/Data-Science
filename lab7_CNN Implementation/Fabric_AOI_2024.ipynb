{
 "cells": [
  {
   "cell_type": "code",
   "execution_count": 1,
   "metadata": {
    "id": "us2zIU65Lw-h"
   },
   "outputs": [],
   "source": [
    "# STEP 0\n",
    "import numpy as np\n",
    "from sklearn.model_selection import train_test_split\n",
    "from sklearn.metrics import f1_score, confusion_matrix\n",
    "from keras.optimizers import Adam\n",
    "from keras.models import Sequential\n",
    "from keras.layers import Conv2D, MaxPooling2D, Dense, Dropout, Activation, Flatten\n",
    "from keras.constraints import unit_norm\n",
    "import matplotlib.pyplot as plt"
   ]
  },
  {
   "cell_type": "code",
   "execution_count": 2,
   "metadata": {
    "id": "oNKReViaMF6J"
   },
   "outputs": [
    {
     "name": "stdout",
     "output_type": "stream",
     "text": [
      "number of images each class:  {0: 25, 1: 100}\n",
      "data training:  (100, 128, 128, 3) (100,)\n",
      "data validation:  (12, 128, 128, 3) (12,)\n",
      "data testing:  (13, 128, 128, 3) (13,)\n"
     ]
    }
   ],
   "source": [
    "# STEP 1\n",
    "x = np.load('images.npy')\n",
    "y = np.load('labels.npy')\n",
    "\n",
    "x = np.true_divide(x, 255)\n",
    "\n",
    "unique, counts = np.unique(y, return_counts=True)\n",
    "print(\"number of images each class: \",dict(zip(unique, counts)))\n",
    "\n",
    "x_train, x_test, y_train, y_test = train_test_split(x, y, test_size=0.1)\n",
    "x_train, x_val, y_train, y_val = train_test_split(x_train, y_train, test_size=0.1)\n",
    "\n",
    "print(\"data training: \", x_train.shape, y_train.shape)\n",
    "print(\"data validation: \", x_val.shape, y_val.shape)\n",
    "print(\"data testing: \", x_test.shape, y_test.shape)"
   ]
  },
  {
   "cell_type": "code",
   "execution_count": 3,
   "metadata": {
    "id": "xlBinYTZLzR6"
   },
   "outputs": [],
   "source": [
    "# STEP 2\n",
    "def build_model():\n",
    "    model = Sequential()\n",
    "    model.add(Conv2D(16, (3, 3), padding=\"same\", input_shape=(128,128,3)))\n",
    "    model.add(Activation('relu'))\n",
    "    model.add(MaxPooling2D(pool_size=(3, 3)))\n",
    "    model.add(Conv2D(32, (3, 3), padding=\"same\"))\n",
    "    model.add(Activation('relu'))\n",
    "    model.add(MaxPooling2D(pool_size=(3, 3)))\n",
    "    model.add(Conv2D(64, (3, 3), padding=\"same\"))\n",
    "    model.add(Activation('relu'))\n",
    "    model.add(MaxPooling2D(pool_size=(2, 2)))\n",
    "    model.add(Conv2D(96, (2, 2), padding=\"same\"))\n",
    "    model.add(Activation('relu'))\n",
    "    model.add(MaxPooling2D(pool_size=(2, 2)))\n",
    "\n",
    "    model.add(Flatten())\n",
    "    model.add(Dropout(0.5))\n",
    "    model.add(Dense(512, activation='relu', kernel_constraint=unit_norm()))\n",
    "    model.add(Dense(256, activation='relu', kernel_constraint=unit_norm()))\n",
    "\n",
    "    model.add(Dense(2, activation='softmax', kernel_constraint=unit_norm()))\n",
    "\n",
    "    model.compile(loss='sparse_categorical_crossentropy',\n",
    "                  optimizer=Adam(learning_rate=0.001),\n",
    "                  metrics=['accuracy'])\n",
    "\n",
    "    return model"
   ]
  },
  {
   "cell_type": "code",
   "execution_count": 4,
   "metadata": {
    "id": "1AXlqIFRMORJ"
   },
   "outputs": [
    {
     "name": "stderr",
     "output_type": "stream",
     "text": [
      "C:\\Users\\user\\anaconda3\\Lib\\site-packages\\keras\\src\\layers\\convolutional\\base_conv.py:99: UserWarning: Do not pass an `input_shape`/`input_dim` argument to a layer. When using Sequential models, prefer using an `Input(shape)` object as the first layer in the model instead.\n",
      "  super().__init__(\n"
     ]
    },
    {
     "name": "stdout",
     "output_type": "stream",
     "text": [
      "Epoch 1/10\n",
      "\u001b[1m4/4\u001b[0m \u001b[32m━━━━━━━━━━━━━━━━━━━━\u001b[0m\u001b[37m\u001b[0m \u001b[1m3s\u001b[0m 121ms/step - accuracy: 0.7107 - loss: 0.7318 - val_accuracy: 0.9167 - val_loss: 0.2735\n",
      "Epoch 2/10\n",
      "\u001b[1m4/4\u001b[0m \u001b[32m━━━━━━━━━━━━━━━━━━━━\u001b[0m\u001b[37m\u001b[0m \u001b[1m0s\u001b[0m 45ms/step - accuracy: 0.7816 - loss: 0.4905 - val_accuracy: 0.9167 - val_loss: 0.4555\n",
      "Epoch 3/10\n",
      "\u001b[1m4/4\u001b[0m \u001b[32m━━━━━━━━━━━━━━━━━━━━\u001b[0m\u001b[37m\u001b[0m \u001b[1m0s\u001b[0m 49ms/step - accuracy: 0.7806 - loss: 0.5235 - val_accuracy: 0.9167 - val_loss: 0.4033\n",
      "Epoch 4/10\n",
      "\u001b[1m4/4\u001b[0m \u001b[32m━━━━━━━━━━━━━━━━━━━━\u001b[0m\u001b[37m\u001b[0m \u001b[1m0s\u001b[0m 47ms/step - accuracy: 0.7754 - loss: 0.4665 - val_accuracy: 0.9167 - val_loss: 0.2806\n",
      "Epoch 5/10\n",
      "\u001b[1m4/4\u001b[0m \u001b[32m━━━━━━━━━━━━━━━━━━━━\u001b[0m\u001b[37m\u001b[0m \u001b[1m0s\u001b[0m 48ms/step - accuracy: 0.7879 - loss: 0.4639 - val_accuracy: 0.9167 - val_loss: 0.2626\n",
      "Epoch 6/10\n",
      "\u001b[1m4/4\u001b[0m \u001b[32m━━━━━━━━━━━━━━━━━━━━\u001b[0m\u001b[37m\u001b[0m \u001b[1m0s\u001b[0m 46ms/step - accuracy: 0.8025 - loss: 0.4887 - val_accuracy: 0.9167 - val_loss: 0.3072\n",
      "Epoch 7/10\n",
      "\u001b[1m4/4\u001b[0m \u001b[32m━━━━━━━━━━━━━━━━━━━━\u001b[0m\u001b[37m\u001b[0m \u001b[1m0s\u001b[0m 46ms/step - accuracy: 0.8243 - loss: 0.4011 - val_accuracy: 0.9167 - val_loss: 0.3766\n",
      "Epoch 8/10\n",
      "\u001b[1m4/4\u001b[0m \u001b[32m━━━━━━━━━━━━━━━━━━━━\u001b[0m\u001b[37m\u001b[0m \u001b[1m0s\u001b[0m 48ms/step - accuracy: 0.7806 - loss: 0.4881 - val_accuracy: 0.9167 - val_loss: 0.3572\n",
      "Epoch 9/10\n",
      "\u001b[1m4/4\u001b[0m \u001b[32m━━━━━━━━━━━━━━━━━━━━\u001b[0m\u001b[37m\u001b[0m \u001b[1m0s\u001b[0m 47ms/step - accuracy: 0.7889 - loss: 0.4855 - val_accuracy: 0.9167 - val_loss: 0.2953\n",
      "Epoch 10/10\n",
      "\u001b[1m4/4\u001b[0m \u001b[32m━━━━━━━━━━━━━━━━━━━━\u001b[0m\u001b[37m\u001b[0m \u001b[1m0s\u001b[0m 54ms/step - accuracy: 0.7952 - loss: 0.4611 - val_accuracy: 0.9167 - val_loss: 0.3157\n"
     ]
    },
    {
     "data": {
      "text/plain": [
       "<keras.src.callbacks.history.History at 0x1d0c6133ed0>"
      ]
     },
     "execution_count": 4,
     "metadata": {},
     "output_type": "execute_result"
    }
   ],
   "source": [
    "# STEP 3\n",
    "model = build_model()\n",
    "model.fit(x_train, y_train, validation_data=(x_val, y_val), epochs=10, batch_size=32)"
   ]
  },
  {
   "cell_type": "code",
   "execution_count": 5,
   "metadata": {
    "id": "BA23Mv4wMQYZ"
   },
   "outputs": [
    {
     "name": "stdout",
     "output_type": "stream",
     "text": [
      "\n",
      "\n",
      "USING ARGMAX:\n",
      "\u001b[1m1/1\u001b[0m \u001b[32m━━━━━━━━━━━━━━━━━━━━\u001b[0m\u001b[37m\u001b[0m \u001b[1m0s\u001b[0m 109ms/step\n",
      "\n",
      "validation confusion matrix:\n",
      " [[ 0  1]\n",
      " [ 0 11]]\n",
      "\n",
      "validation F1 score: 0.0\n"
     ]
    }
   ],
   "source": [
    "# STEP 4\n",
    "print(\"\\n\\nUSING ARGMAX:\")\n",
    "\n",
    "y_pred_val = model.predict(x_val)\n",
    "y_pred_val_argmax = y_pred_val.argmax(axis=-1)\n",
    "conf_mat_val = confusion_matrix(y_val, y_pred_val_argmax)\n",
    "\n",
    "print(\"\\nvalidation confusion matrix:\\n\",conf_mat_val)\n",
    "print(\"\\nvalidation F1 score:\", f1_score(y_val, y_pred_val_argmax, pos_label=0))"
   ]
  },
  {
   "cell_type": "code",
   "execution_count": 6,
   "metadata": {
    "id": "fv2qyzH_MUgw"
   },
   "outputs": [
    {
     "name": "stdout",
     "output_type": "stream",
     "text": [
      "\u001b[1m1/1\u001b[0m \u001b[32m━━━━━━━━━━━━━━━━━━━━\u001b[0m\u001b[37m\u001b[0m \u001b[1m0s\u001b[0m 31ms/step\n"
     ]
    }
   ],
   "source": [
    "# STEP 5\n",
    "thresholds = np.arange(0.1,1,0.1)\n",
    "f1_val = []\n",
    "\n",
    "y_pred_val = model.predict(x_val)\n",
    "\n",
    "for th in thresholds:\n",
    "    y_pred_val_th = [1 if y_p<th else 0 for y_p in y_pred_val[:,0]]\n",
    "    f1_val.append(f1_score(y_val,y_pred_val_th, pos_label=0))"
   ]
  },
  {
   "cell_type": "code",
   "execution_count": 7,
   "metadata": {
    "id": "HMgMD2l7MXpI"
   },
   "outputs": [
    {
     "name": "stdout",
     "output_type": "stream",
     "text": [
      "\n",
      "\n",
      "USING THRESHOLD WITH BEST F1 SCORE:\n",
      "\n",
      "Best validation F1= 0.33333333333333337 with threshold= 0.2\n"
     ]
    },
    {
     "data": {
      "image/png": "[encoded data removed]",
      "text/plain": [
       "<Figure size 640x480 with 1 Axes>"
      ]
     },
     "metadata": {},
     "output_type": "display_data"
    }
   ],
   "source": [
    "# STEP 6\n",
    "idx_best = np.argmax(f1_val)\n",
    "\n",
    "plt.plot(thresholds, f1_val, marker='o', color='blue', label='F1 val')\n",
    "plt.plot(thresholds[idx_best], f1_val[idx_best], marker='x', color='red', label=' best F1 val')\n",
    "plt.legend(loc='lower right')\n",
    "\n",
    "print(\"\\n\\nUSING THRESHOLD WITH BEST F1 SCORE:\")\n",
    "print(\"\\nBest validation F1=\", f1_val[idx_best], \"with threshold=\", thresholds[idx_best])\n",
    "\n",
    "plt.show()"
   ]
  },
  {
   "cell_type": "code",
   "execution_count": 8,
   "metadata": {
    "id": "7yqJO-zRKIyD"
   },
   "outputs": [
    {
     "name": "stdout",
     "output_type": "stream",
     "text": [
      "\u001b[1m1/1\u001b[0m \u001b[32m━━━━━━━━━━━━━━━━━━━━\u001b[0m\u001b[37m\u001b[0m \u001b[1m0s\u001b[0m 105ms/step\n",
      "\n",
      "F1 score of the testing data with argmax = 0.0\n",
      "\n",
      "F1 score of the testing data with threshold = 0.7499999999999999\n"
     ]
    }
   ],
   "source": [
    "# STEP 7\n",
    "y_pred_test = model.predict(x_test)\n",
    "\n",
    "y_pred_test_argmax = y_pred_test.argmax(axis=-1)\n",
    "print(\"\\nF1 score of the testing data with argmax =\", f1_score(y_test, y_pred_test_argmax, pos_label=0))\n",
    "\n",
    "y_pred_test_threshold = [1 if y_p<thresholds[idx_best] else 0 for y_p in y_pred_test[:,0]]\n",
    "print(\"\\nF1 score of the testing data with threshold =\", f1_score(y_test, y_pred_test_threshold, pos_label=0))"
   ]
  }
 ],
 "metadata": {
  "colab": {
   "authorship_tag": "ABX9TyPi64S3/zcAQFLD6ayeyfsq",
   "provenance": [
    {
     "file_id": "1-aDqvcepxE0Apn1LxV050RKgBs6P_pSZ",
     "timestamp": 1644233390021
    }
   ]
  },
  "kernelspec": {
   "display_name": "Python 3 (ipykernel)",
   "language": "python",
   "name": "python3"
  },
  "language_info": {
   "codemirror_mode": {
    "name": "ipython",
    "version": 3
   },
   "file_extension": ".py",
   "mimetype": "text/x-python",
   "name": "python",
   "nbconvert_exporter": "python",
   "pygments_lexer": "ipython3",
   "version": "3.11.5"
  }
 },
 "nbformat": 4,
 "nbformat_minor": 1
}
